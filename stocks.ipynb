{
 "cells": [
  {
   "cell_type": "code",
   "execution_count": 321,
   "id": "2757648f-745c-4680-a61c-ec1492e6301f",
   "metadata": {},
   "outputs": [
    {
     "name": "stderr",
     "output_type": "stream",
     "text": [
      "[*********************100%***********************]  1 of 1 completed\n",
      "[*********************100%***********************]  1 of 1 completed\n",
      "[*********************100%***********************]  1 of 1 completed\n",
      "[*********************100%***********************]  1 of 1 completed\n",
      "[*********************100%***********************]  1 of 1 completed\n",
      "[*********************100%***********************]  1 of 1 completed\n",
      "[*********************100%***********************]  1 of 1 completed\n",
      "[*********************100%***********************]  1 of 1 completed\n",
      "[*********************100%***********************]  1 of 1 completed\n",
      "[*********************100%***********************]  1 of 1 completed"
     ]
    },
    {
     "name": "stdout",
     "output_type": "stream",
     "text": [
      "RELIANCE.NS: 0.0%\n",
      "TCS.NS: 0.0%\n",
      "INFY.NS: 0.0%\n",
      "HDFCBANK.NS: 2.288512939686404e-15%\n",
      "ICICIBANK.NS: 28.2529834892829%\n",
      "HINDUNILVR.NS: 4.868068108586894e-16%\n",
      "ITC.NS: 31.33006127208528%\n",
      "KOTAKBANK.NS: 2.2925474375340104e-15%\n",
      "LT.NS: 26.57551665754509%\n",
      "SBIN.NS: 13.84143858108672%\n",
      "Sharpe max: 1.165791564101658\n",
      "est return:  26.260874229799242%\n",
      "Optimal std: 17.37949977825751%\n"
     ]
    },
    {
     "name": "stderr",
     "output_type": "stream",
     "text": [
      "\n"
     ]
    }
   ],
   "source": [
    "#aim is to build optimal portfolio programme that uses MPT mean convergence to make perfect weighted portfolio of given stocks\n",
    "import yfinance as yf\n",
    "import pandas as pd\n",
    "from datetime import datetime, timedelta\n",
    "from scipy.optimize import minimize\n",
    "nse_stocks = [\n",
    "    'RELIANCE.NS', 'TCS.NS', 'INFY.NS', 'HDFCBANK.NS', 'ICICIBANK.NS',\n",
    "    'HINDUNILVR.NS', 'ITC.NS', 'KOTAKBANK.NS', 'LT.NS', 'SBIN.NS'\n",
    "]\n",
    "#NSE = yf.download(\"^NSEI\")\n",
    "start_date = \"2021-01-01\"\n",
    "end_date = end_date = datetime.today().strftime('%Y-%m-%d')\n",
    "\n",
    "returns = pd.DataFrame()\n",
    "df_close = pd.DataFrame()\n",
    "\n",
    "for ticker in nse_stocks:\n",
    "     data = yf.download(ticker, start=start_date, end=end_date)\n",
    "     df_close[ticker] = data[\"Close\"]\n",
    "    \n",
    "returns = df_close.pct_change().interpolate()\n",
    "df_ret = returns.to_csv(\"stock_closing_prices.csv\")\n",
    "#calculating covariance\n",
    "covariance = returns.cov()\n",
    "covariance.to_csv(\"stock_covariance.csv\")\n",
    "\n",
    "n = len(nse_stocks)\n",
    "stock_return_list = []\n",
    "returns.to_csv(\"stock_closing_prices.csv\")\n",
    "for i in returns.columns:\n",
    "    avg = returns[i].mean()\n",
    "    stock_return_list.append(avg)\n",
    "\n",
    "stock_return  = np.array(stock_return_list)\n",
    "\n",
    "cov_mat = pd.read_csv(\"stock_covariance.csv\",index_col = 0)\n",
    "\n",
    "riskfree_rate = .06/252\n",
    "\n",
    "def SR (weights, stock_return, cov_mat, riskfree_rate):\n",
    "    PF_return = np.dot(weights, stock_return)\n",
    "    var = np.dot(weights.T, np.dot(cov_mat, weights))\n",
    "    sharpe = (PF_return-riskfree_rate)/np.sqrt(var)\n",
    "    return -sharpe\n",
    "    return PF_return\n",
    "\n",
    "constraints = ({'type': 'eq', 'fun': lambda x: np.sum(x) - 1})\n",
    "bounds = tuple((0, .6) for i in range(n))\n",
    "\n",
    "init_guess = np.array([1/n]*n)\n",
    "optimized = minimize(\n",
    "    SR, init_guess,\n",
    "    args=(stock_return, cov_mat.values, riskfree_rate),\n",
    "    method='SLSQP', bounds=bounds, constraints=constraints\n",
    ")\n",
    "opt_w = optimized.x\n",
    "for i,j in zip(nse_stocks,opt_w):\n",
    "    print(f\"{i}: {j*100}%\")\n",
    "\n",
    "final_opt_ret = np.dot(opt_w,stock_return) \n",
    "ann_ret = final_opt_ret*252\n",
    "final_opt_STDEV = np.sqrt(np.dot(opt_w.T,np.dot(cov_mat,opt_w)))\n",
    "ann_std = final_opt_STDEV*np.sqrt(252)\n",
    "sharpe_max = ( ann_ret- (riskfree_rate)*252) / ann_std\n",
    "print(f\"Sharpe max: {sharpe_max}\")\n",
    "print(f\"est return:  {ann_ret*100}%\")\n",
    "print(f\"Optimal std: {ann_std*100}%\")\n",
    "\n",
    "\n",
    "\n"
   ]
  },
  {
   "cell_type": "code",
   "execution_count": 60,
   "id": "1648cf4f-fe84-495f-8326-8a8ca6f5c7af",
   "metadata": {},
   "outputs": [
    {
     "name": "stdout",
     "output_type": "stream",
     "text": [
      "\u001b[H\u001b[2J"
     ]
    }
   ],
   "source": []
  },
  {
   "cell_type": "code",
   "execution_count": 1,
   "id": "9699c5e1-b388-40b0-9d89-b3fc047f98d2",
   "metadata": {},
   "outputs": [
    {
     "name": "stdout",
     "output_type": "stream",
     "text": [
      "\u001b[H\u001b[2J"
     ]
    }
   ],
   "source": []
  },
  {
   "cell_type": "code",
   "execution_count": 157,
   "id": "649eae1c-58e4-4650-8165-5fde64079d63",
   "metadata": {},
   "outputs": [
    {
     "name": "stdout",
     "output_type": "stream",
     "text": [
      "10\n"
     ]
    }
   ],
   "source": []
  },
  {
   "cell_type": "code",
   "execution_count": 171,
   "id": "5a156b67-a4e6-4231-99f1-7ae37ff6bb26",
   "metadata": {},
   "outputs": [],
   "source": []
  },
  {
   "cell_type": "code",
   "execution_count": 185,
   "id": "069e5a86-4d60-4ef7-a1ad-a75a1343759f",
   "metadata": {},
   "outputs": [
    {
     "name": "stdout",
     "output_type": "stream",
     "text": [
      "0.008861539454294083\n"
     ]
    }
   ],
   "source": []
  },
  {
   "cell_type": "code",
   "execution_count": null,
   "id": "81b54aec-49f6-485a-a62f-a7c4852b3392",
   "metadata": {},
   "outputs": [],
   "source": []
  }
 ],
 "metadata": {
  "kernelspec": {
   "display_name": "Python [conda env:base] *",
   "language": "python",
   "name": "conda-base-py"
  },
  "language_info": {
   "codemirror_mode": {
    "name": "ipython",
    "version": 3
   },
   "file_extension": ".py",
   "mimetype": "text/x-python",
   "name": "python",
   "nbconvert_exporter": "python",
   "pygments_lexer": "ipython3",
   "version": "3.12.7"
  }
 },
 "nbformat": 4,
 "nbformat_minor": 5
}
